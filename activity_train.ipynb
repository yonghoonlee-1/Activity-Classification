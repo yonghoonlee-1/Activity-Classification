{
  "nbformat": 4,
  "nbformat_minor": 0,
  "metadata": {
    "kernelspec": {
      "display_name": "Python 3",
      "language": "python",
      "name": "python3"
    },
    "language_info": {
      "codemirror_mode": {
        "name": "ipython",
        "version": 3
      },
      "file_extension": ".py",
      "mimetype": "text/x-python",
      "name": "python",
      "nbconvert_exporter": "python",
      "pygments_lexer": "ipython3",
      "version": "3.7.6"
    },
    "colab": {
      "name": "activity_train.ipynb",
      "provenance": [],
      "include_colab_link": true
    }
  },
  "cells": [
    {
      "cell_type": "markdown",
      "metadata": {
        "id": "view-in-github",
        "colab_type": "text"
      },
      "source": [
        "<a href=\"https://colab.research.google.com/github/yonghoonlee-1/Activity-Classification/blob/main/activity_train.ipynb\" target=\"_parent\"><img src=\"https://colab.research.google.com/assets/colab-badge.svg\" alt=\"Open In Colab\"/></a>"
      ]
    },
    {
      "cell_type": "code",
      "metadata": {
        "id": "nmzXZ4k9_A_g"
      },
      "source": [
        "import glob\n",
        "import numpy as np\n",
        "\n",
        "path =r'mlpr20_project_data_new'\n",
        "\n",
        "filenames1 = glob.glob(path + \"/*1.txt\")\n",
        "filenames2 = glob.glob(path + \"/*2.txt\")\n",
        "filenames3 = glob.glob(path + \"/*3.txt\")\n",
        "filenames4 = glob.glob(path + \"/*4.txt\")\n",
        "filenames5 = glob.glob(path + \"/*5.txt\")\n",
        "filenames6 = glob.glob(path + \"/*6.txt\")\n",
        "\n",
        "data1 = []\n",
        "data2 = []\n",
        "data3 = []\n",
        "data4 = []\n",
        "data5 = []\n",
        "data6 = []\n",
        "\n",
        "for filename in filenames1: \n",
        "    data1.append(np.loadtxt(filename))\n",
        "\n",
        "for filename in filenames2: \n",
        "    data2.append(np.loadtxt(filename))\n",
        "\n",
        "for filename in filenames3: \n",
        "    data3.append(np.loadtxt(filename))\n",
        "\n",
        "for filename in filenames4: \n",
        "    data4.append(np.loadtxt(filename))\n",
        "\n",
        "for filename in filenames5: \n",
        "    data5.append(np.loadtxt(filename))\n",
        "\n",
        "for filename in filenames6: \n",
        "    data6.append(np.loadtxt(filename))"
      ],
      "execution_count": null,
      "outputs": []
    },
    {
      "cell_type": "code",
      "metadata": {
        "id": "P7kbT4_-_A_h",
        "outputId": "15b549b3-56d8-4881-dfb7-1509d0a68fdf"
      },
      "source": [
        "print(len(data1), len(data2), len(data3), len(data4), len(data5), len(data6))"
      ],
      "execution_count": null,
      "outputs": [
        {
          "output_type": "stream",
          "text": [
            "1161 1008 924 1224 1315 1337\n"
          ],
          "name": "stdout"
        }
      ]
    },
    {
      "cell_type": "code",
      "metadata": {
        "id": "7pQlDnYn_A_i",
        "outputId": "51475f5f-e75c-4581-fc18-3d66b015ce80"
      },
      "source": [
        "sum = len(data1) + len(data2) + len(data3) + len(data4) + len(data5) + len(data6)\n",
        "print(sum)"
      ],
      "execution_count": null,
      "outputs": [
        {
          "output_type": "stream",
          "text": [
            "6969\n"
          ],
          "name": "stdout"
        }
      ]
    },
    {
      "cell_type": "code",
      "metadata": {
        "id": "tuYCvmrH_A_j"
      },
      "source": [
        "target1 = np.full((1161, 1), 1, dtype=int)\n",
        "target2 = np.full((1008, 1), 2, dtype=int)\n",
        "target3 = np.full((924, 1), 3, dtype=int)\n",
        "target4 = np.full((1224, 1), 4, dtype=int)\n",
        "target5 = np.full((1315, 1), 5, dtype=int)\n",
        "target6 = np.full((1337, 1), 6, dtype=int)"
      ],
      "execution_count": null,
      "outputs": []
    },
    {
      "cell_type": "code",
      "metadata": {
        "id": "7YDG6JtT_A_j",
        "outputId": "bb07a8cd-8aac-404b-dcb7-3fd08206f1b3"
      },
      "source": [
        "train_input = np.concatenate((data1, data2, data3, data4, data5, data6))\n",
        "train_target = np.concatenate((target1, target2, target3, target4, target5, target6))\n",
        "\n",
        "train_input.shape, train_target.shape"
      ],
      "execution_count": null,
      "outputs": [
        {
          "output_type": "execute_result",
          "data": {
            "text/plain": [
              "((6969, 128, 6), (6969, 1))"
            ]
          },
          "metadata": {
            "tags": []
          },
          "execution_count": 5
        }
      ]
    },
    {
      "cell_type": "code",
      "metadata": {
        "id": "IQ65WEwA_A_j",
        "outputId": "66d0462a-16f9-4172-cea5-14a76ba54595"
      },
      "source": [
        "train_target[1]"
      ],
      "execution_count": null,
      "outputs": [
        {
          "output_type": "execute_result",
          "data": {
            "text/plain": [
              "array([1])"
            ]
          },
          "metadata": {
            "tags": []
          },
          "execution_count": 6
        }
      ]
    },
    {
      "cell_type": "code",
      "metadata": {
        "id": "532MMZ48_A_k",
        "outputId": "1913fd93-47eb-4c0f-9b0a-bfee77e79d83"
      },
      "source": [
        "train_target = train_target - 1\n",
        "train_target[1]"
      ],
      "execution_count": null,
      "outputs": [
        {
          "output_type": "execute_result",
          "data": {
            "text/plain": [
              "array([0])"
            ]
          },
          "metadata": {
            "tags": []
          },
          "execution_count": 7
        }
      ]
    },
    {
      "cell_type": "code",
      "metadata": {
        "id": "nPqMc71q_A_k",
        "outputId": "f64563f1-53d6-4ab2-97c8-4c5749b72e31"
      },
      "source": [
        "from keras.utils import to_categorical\n",
        "\n",
        "train_target = to_categorical(train_target)\n",
        "\n",
        "print(train_target[1])\n",
        "\n",
        "train_input.shape, train_target.shape"
      ],
      "execution_count": null,
      "outputs": [
        {
          "output_type": "stream",
          "text": [
            "Using TensorFlow backend.\n"
          ],
          "name": "stderr"
        },
        {
          "output_type": "stream",
          "text": [
            "[1. 0. 0. 0. 0. 0.]\n"
          ],
          "name": "stdout"
        },
        {
          "output_type": "execute_result",
          "data": {
            "text/plain": [
              "((6969, 128, 6), (6969, 6))"
            ]
          },
          "metadata": {
            "tags": []
          },
          "execution_count": 8
        }
      ]
    },
    {
      "cell_type": "code",
      "metadata": {
        "id": "JOL08PwG_A_l",
        "outputId": "d50ae2d8-6da2-4c86-ebb9-45b1da1ec3dc"
      },
      "source": [
        "from sklearn.model_selection import train_test_split\n",
        "\n",
        "X_train, X_val, Y_train, Y_val = train_test_split(train_input, train_target, test_size=0.005, random_state=321)\n",
        "\n",
        "X_train.shape, X_val.shape, Y_train.shape, Y_val.shape"
      ],
      "execution_count": null,
      "outputs": [
        {
          "output_type": "execute_result",
          "data": {
            "text/plain": [
              "((6934, 128, 6), (35, 128, 6), (6934, 6), (35, 6))"
            ]
          },
          "metadata": {
            "tags": []
          },
          "execution_count": 9
        }
      ]
    },
    {
      "cell_type": "code",
      "metadata": {
        "id": "wtszvrTa_A_l",
        "outputId": "12b4c98a-1a12-4fec-8032-7d220d709d5a"
      },
      "source": [
        "import keras\n",
        "from keras.models import Sequential\n",
        "from keras.layers import Dense, Dropout, Flatten, Reshape, Conv1D, MaxPooling1D\n",
        "from keras import models, layers\n",
        "\n",
        "model = models.Sequential()\n",
        "model.add(layers.Conv1D(250, 10, input_shape=(X_train.shape[1],X_train.shape[2]), activation='relu'))\n",
        "model.add(layers.Conv1D(250, 10, activation='relu'))\n",
        "model.add(MaxPooling1D(3))\n",
        "model.add(layers.Conv1D(250, 10, activation='relu'))\n",
        "model.add(layers.Conv1D(250, 10, activation='relu'))\n",
        "model.add(layers.GlobalMaxPooling1D())\n",
        "model.add(layers.Dropout(0.5))\n",
        "model.add(layers.Dense(6, activation='softmax'))\n",
        "\n",
        "print(model.summary())"
      ],
      "execution_count": null,
      "outputs": [
        {
          "output_type": "stream",
          "text": [
            "Model: \"sequential_1\"\n",
            "_________________________________________________________________\n",
            "Layer (type)                 Output Shape              Param #   \n",
            "=================================================================\n",
            "conv1d_1 (Conv1D)            (None, 119, 250)          15250     \n",
            "_________________________________________________________________\n",
            "conv1d_2 (Conv1D)            (None, 110, 250)          625250    \n",
            "_________________________________________________________________\n",
            "max_pooling1d_1 (MaxPooling1 (None, 36, 250)           0         \n",
            "_________________________________________________________________\n",
            "conv1d_3 (Conv1D)            (None, 27, 250)           625250    \n",
            "_________________________________________________________________\n",
            "conv1d_4 (Conv1D)            (None, 18, 250)           625250    \n",
            "_________________________________________________________________\n",
            "global_max_pooling1d_1 (Glob (None, 250)               0         \n",
            "_________________________________________________________________\n",
            "dropout_1 (Dropout)          (None, 250)               0         \n",
            "_________________________________________________________________\n",
            "dense_1 (Dense)              (None, 6)                 1506      \n",
            "=================================================================\n",
            "Total params: 1,892,506\n",
            "Trainable params: 1,892,506\n",
            "Non-trainable params: 0\n",
            "_________________________________________________________________\n",
            "None\n"
          ],
          "name": "stdout"
        }
      ]
    },
    {
      "cell_type": "code",
      "metadata": {
        "id": "x_oHo8uh_A_l",
        "outputId": "d8248902-dbdd-4309-dde1-bbdae16683ac"
      },
      "source": [
        "model.compile(loss='categorical_crossentropy', optimizer='adam', metrics=['accuracy'])\n",
        "\n",
        "history = model.fit(X_train, Y_train, validation_data=(X_val, Y_val), epochs=50, batch_size=400)"
      ],
      "execution_count": null,
      "outputs": [
        {
          "output_type": "stream",
          "text": [
            "Train on 6934 samples, validate on 35 samples\n",
            "Epoch 1/50\n",
            "6934/6934 [==============================] - 37s 5ms/step - loss: 0.9291 - accuracy: 0.6017 - val_loss: 0.4305 - val_accuracy: 0.8000\n",
            "Epoch 2/50\n",
            "6934/6934 [==============================] - 45s 6ms/step - loss: 0.3136 - accuracy: 0.8866 - val_loss: 0.2281 - val_accuracy: 0.9143\n",
            "Epoch 3/50\n",
            "6934/6934 [==============================] - 44s 6ms/step - loss: 0.1855 - accuracy: 0.9347 - val_loss: 0.1348 - val_accuracy: 0.9143\n",
            "Epoch 4/50\n",
            "6934/6934 [==============================] - 41s 6ms/step - loss: 0.1544 - accuracy: 0.9391 - val_loss: 0.1241 - val_accuracy: 0.9429\n",
            "Epoch 5/50\n",
            "6934/6934 [==============================] - 40s 6ms/step - loss: 0.1295 - accuracy: 0.9471 - val_loss: 0.1007 - val_accuracy: 0.9714\n",
            "Epoch 6/50\n",
            "6934/6934 [==============================] - 40s 6ms/step - loss: 0.1177 - accuracy: 0.9533 - val_loss: 0.0990 - val_accuracy: 0.9714\n",
            "Epoch 7/50\n",
            "6934/6934 [==============================] - 44s 6ms/step - loss: 0.1072 - accuracy: 0.9549 - val_loss: 0.1038 - val_accuracy: 0.9714\n",
            "Epoch 8/50\n",
            "6934/6934 [==============================] - 41s 6ms/step - loss: 0.1042 - accuracy: 0.9566 - val_loss: 0.0954 - val_accuracy: 0.9714\n",
            "Epoch 9/50\n",
            "6934/6934 [==============================] - 45s 6ms/step - loss: 0.1025 - accuracy: 0.9556 - val_loss: 0.1082 - val_accuracy: 0.9429\n",
            "Epoch 10/50\n",
            "6934/6934 [==============================] - 42s 6ms/step - loss: 0.1082 - accuracy: 0.9531 - val_loss: 0.1169 - val_accuracy: 0.9429\n",
            "Epoch 11/50\n",
            "6934/6934 [==============================] - 42s 6ms/step - loss: 0.1025 - accuracy: 0.9550 - val_loss: 0.0927 - val_accuracy: 0.9714\n",
            "Epoch 12/50\n",
            "6934/6934 [==============================] - 43s 6ms/step - loss: 0.1033 - accuracy: 0.9562 - val_loss: 0.0928 - val_accuracy: 0.9714\n",
            "Epoch 13/50\n",
            "6934/6934 [==============================] - 41s 6ms/step - loss: 0.1026 - accuracy: 0.9567 - val_loss: 0.1095 - val_accuracy: 0.9714\n",
            "Epoch 14/50\n",
            "6934/6934 [==============================] - 40s 6ms/step - loss: 0.0974 - accuracy: 0.9579 - val_loss: 0.1214 - val_accuracy: 0.9714\n",
            "Epoch 15/50\n",
            "6934/6934 [==============================] - 39s 6ms/step - loss: 0.0985 - accuracy: 0.9580 - val_loss: 0.0737 - val_accuracy: 0.9714\n",
            "Epoch 16/50\n",
            "6934/6934 [==============================] - 39s 6ms/step - loss: 0.0888 - accuracy: 0.9590 - val_loss: 0.0663 - val_accuracy: 0.9714\n",
            "Epoch 17/50\n",
            "6934/6934 [==============================] - 37s 5ms/step - loss: 0.0793 - accuracy: 0.9625 - val_loss: 0.0530 - val_accuracy: 0.9714\n",
            "Epoch 18/50\n",
            "6934/6934 [==============================] - 39s 6ms/step - loss: 0.0786 - accuracy: 0.9665 - val_loss: 0.0785 - val_accuracy: 0.9714\n",
            "Epoch 19/50\n",
            "6934/6934 [==============================] - 37s 5ms/step - loss: 0.0925 - accuracy: 0.9602 - val_loss: 0.0387 - val_accuracy: 1.0000\n",
            "Epoch 20/50\n",
            "6934/6934 [==============================] - 39s 6ms/step - loss: 0.0823 - accuracy: 0.9626 - val_loss: 0.0311 - val_accuracy: 1.0000\n",
            "Epoch 21/50\n",
            "6934/6934 [==============================] - 38s 6ms/step - loss: 0.0885 - accuracy: 0.9609 - val_loss: 0.0648 - val_accuracy: 1.0000\n",
            "Epoch 22/50\n",
            "6934/6934 [==============================] - 39s 6ms/step - loss: 0.0769 - accuracy: 0.9678 - val_loss: 0.0361 - val_accuracy: 1.0000\n",
            "Epoch 23/50\n",
            "6934/6934 [==============================] - 38s 5ms/step - loss: 0.0672 - accuracy: 0.9701 - val_loss: 0.0282 - val_accuracy: 1.0000\n",
            "Epoch 24/50\n",
            "6934/6934 [==============================] - 39s 6ms/step - loss: 0.0616 - accuracy: 0.9729 - val_loss: 0.0270 - val_accuracy: 1.0000\n",
            "Epoch 25/50\n",
            "6934/6934 [==============================] - 40s 6ms/step - loss: 0.0569 - accuracy: 0.9751 - val_loss: 0.0238 - val_accuracy: 1.0000\n",
            "Epoch 26/50\n",
            "6934/6934 [==============================] - 38s 6ms/step - loss: 0.0563 - accuracy: 0.9774 - val_loss: 0.0185 - val_accuracy: 1.0000\n",
            "Epoch 27/50\n",
            "6934/6934 [==============================] - 38s 6ms/step - loss: 0.0515 - accuracy: 0.9781 - val_loss: 0.0181 - val_accuracy: 1.0000\n",
            "Epoch 28/50\n",
            "6934/6934 [==============================] - 41s 6ms/step - loss: 0.0588 - accuracy: 0.9742 - val_loss: 0.0262 - val_accuracy: 1.0000\n",
            "Epoch 29/50\n",
            "6934/6934 [==============================] - 44s 6ms/step - loss: 0.0558 - accuracy: 0.9782 - val_loss: 0.0121 - val_accuracy: 1.0000\n",
            "Epoch 30/50\n",
            "6934/6934 [==============================] - 41s 6ms/step - loss: 0.0517 - accuracy: 0.9802 - val_loss: 0.0104 - val_accuracy: 1.0000\n",
            "Epoch 31/50\n",
            "6934/6934 [==============================] - 39s 6ms/step - loss: 0.0553 - accuracy: 0.9779 - val_loss: 0.0117 - val_accuracy: 1.0000\n",
            "Epoch 32/50\n",
            "6934/6934 [==============================] - 40s 6ms/step - loss: 0.0520 - accuracy: 0.9788 - val_loss: 0.0203 - val_accuracy: 1.0000\n",
            "Epoch 33/50\n",
            "6934/6934 [==============================] - 42s 6ms/step - loss: 0.0504 - accuracy: 0.9794 - val_loss: 0.0128 - val_accuracy: 1.0000\n",
            "Epoch 34/50\n",
            "6934/6934 [==============================] - 42s 6ms/step - loss: 0.0458 - accuracy: 0.9801 - val_loss: 0.0115 - val_accuracy: 1.0000\n",
            "Epoch 35/50\n",
            "6934/6934 [==============================] - 40s 6ms/step - loss: 0.0407 - accuracy: 0.9831 - val_loss: 0.0043 - val_accuracy: 1.0000\n",
            "Epoch 36/50\n",
            "6934/6934 [==============================] - 40s 6ms/step - loss: 0.0452 - accuracy: 0.9810 - val_loss: 0.0173 - val_accuracy: 1.0000\n",
            "Epoch 37/50\n",
            "6934/6934 [==============================] - 47s 7ms/step - loss: 0.0473 - accuracy: 0.9805 - val_loss: 0.0247 - val_accuracy: 1.0000\n",
            "Epoch 38/50\n",
            "6934/6934 [==============================] - 46s 7ms/step - loss: 0.0399 - accuracy: 0.9830 - val_loss: 0.0099 - val_accuracy: 1.0000\n",
            "Epoch 39/50\n",
            "6934/6934 [==============================] - 39s 6ms/step - loss: 0.1877 - accuracy: 0.9635 - val_loss: 0.0737 - val_accuracy: 0.9714\n",
            "Epoch 40/50\n",
            "6934/6934 [==============================] - 40s 6ms/step - loss: 0.0790 - accuracy: 0.9648 - val_loss: 0.0320 - val_accuracy: 1.0000\n",
            "Epoch 41/50\n",
            "6934/6934 [==============================] - 42s 6ms/step - loss: 0.0549 - accuracy: 0.9755 - val_loss: 0.1031 - val_accuracy: 0.9714\n",
            "Epoch 42/50\n",
            "6934/6934 [==============================] - 40s 6ms/step - loss: 0.0435 - accuracy: 0.9824 - val_loss: 0.0115 - val_accuracy: 1.0000\n",
            "Epoch 43/50\n",
            "6934/6934 [==============================] - 40s 6ms/step - loss: 0.0470 - accuracy: 0.9801 - val_loss: 0.0357 - val_accuracy: 0.9714\n",
            "Epoch 44/50\n",
            "6934/6934 [==============================] - 39s 6ms/step - loss: 0.0616 - accuracy: 0.9716 - val_loss: 0.0322 - val_accuracy: 0.9714\n",
            "Epoch 45/50\n",
            "6934/6934 [==============================] - 40s 6ms/step - loss: 0.0541 - accuracy: 0.9779 - val_loss: 0.0084 - val_accuracy: 1.0000\n",
            "Epoch 46/50\n",
            "6934/6934 [==============================] - 38s 5ms/step - loss: 0.0462 - accuracy: 0.9795 - val_loss: 0.0059 - val_accuracy: 1.0000\n",
            "Epoch 47/50\n",
            "6934/6934 [==============================] - 38s 5ms/step - loss: 0.0365 - accuracy: 0.9851 - val_loss: 0.0075 - val_accuracy: 1.0000\n",
            "Epoch 48/50\n",
            "6934/6934 [==============================] - 43s 6ms/step - loss: 0.0357 - accuracy: 0.9836 - val_loss: 0.0029 - val_accuracy: 1.0000\n",
            "Epoch 49/50\n",
            "6934/6934 [==============================] - 40s 6ms/step - loss: 0.0440 - accuracy: 0.9821 - val_loss: 0.0061 - val_accuracy: 1.0000\n",
            "Epoch 50/50\n",
            "6934/6934 [==============================] - 39s 6ms/step - loss: 0.0377 - accuracy: 0.9831 - val_loss: 3.9434e-04 - val_accuracy: 1.0000\n"
          ],
          "name": "stdout"
        }
      ]
    },
    {
      "cell_type": "code",
      "metadata": {
        "id": "k4Iz6Nhm_A_m",
        "outputId": "f42339fa-dd1f-4f6c-d1cb-71f35f8104ff"
      },
      "source": [
        "import pickle\n",
        "from sklearn.externals import joblib\n",
        "\n",
        "joblib.dump(model, 'mlpr_term_project.pkl') "
      ],
      "execution_count": null,
      "outputs": [
        {
          "output_type": "stream",
          "text": [
            "/Users/yonghun/opt/anaconda3/lib/python3.7/site-packages/sklearn/externals/joblib/__init__.py:15: FutureWarning: sklearn.externals.joblib is deprecated in 0.21 and will be removed in 0.23. Please import this functionality directly from joblib, which can be installed with: pip install joblib. If this warning is raised when loading pickled models, you may need to re-serialize those models with scikit-learn 0.21+.\n",
            "  warnings.warn(msg, category=FutureWarning)\n"
          ],
          "name": "stderr"
        },
        {
          "output_type": "execute_result",
          "data": {
            "text/plain": [
              "['mlpr_term_project.pkl']"
            ]
          },
          "metadata": {
            "tags": []
          },
          "execution_count": 12
        }
      ]
    },
    {
      "cell_type": "code",
      "metadata": {
        "id": "o_ZlbcM0_A_m"
      },
      "source": [
        "prediction_results_train = []\n",
        "\n",
        "for i in range(6934):\n",
        "    result = model.predict(np.expand_dims(X_train[i], axis=0))\n",
        "    result = result[0]\n",
        "    prediction_results_train.append(result.argmax())"
      ],
      "execution_count": null,
      "outputs": []
    },
    {
      "cell_type": "code",
      "metadata": {
        "id": "D2ngChc8_A_m"
      },
      "source": [
        "prediction_results_train_arr = np.array(prediction_results_train)"
      ],
      "execution_count": null,
      "outputs": []
    },
    {
      "cell_type": "code",
      "metadata": {
        "id": "y5D2rJ4E_A_m"
      },
      "source": [
        "from numpy import argmax\n",
        "\n",
        "Y_train_list = []\n",
        "\n",
        "for i in range(6934):\n",
        "    Y_train_list.append(argmax(Y_train[i]))"
      ],
      "execution_count": null,
      "outputs": []
    },
    {
      "cell_type": "code",
      "metadata": {
        "id": "RK7JY5nM_A_n"
      },
      "source": [
        "Y_train_list_arr = np.array(Y_train_list)"
      ],
      "execution_count": null,
      "outputs": []
    },
    {
      "cell_type": "code",
      "metadata": {
        "id": "qAzjsAux_A_n",
        "outputId": "6e7e3cb2-759b-43f3-80a1-e6f905399b38"
      },
      "source": [
        "from sklearn.metrics import accuracy_score\n",
        "print(\"Accuracy:\", accuracy_score(Y_train_list_arr, prediction_results_train_arr))"
      ],
      "execution_count": null,
      "outputs": [
        {
          "output_type": "stream",
          "text": [
            "Accuracy: 0.9867320449956735\n"
          ],
          "name": "stdout"
        }
      ]
    },
    {
      "cell_type": "code",
      "metadata": {
        "id": "z9Ynw8nZ_A_n"
      },
      "source": [
        ""
      ],
      "execution_count": null,
      "outputs": []
    }
  ]
}